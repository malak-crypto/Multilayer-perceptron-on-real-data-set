{
 "cells": [
  {
   "cell_type": "markdown",
   "id": "06dba19c-8333-4f0f-80f1-a50a93bfdfc9",
   "metadata": {
    "tags": []
   },
   "source": [
    "* Train a Logistic regression model for multi-class classification on the accompanied dataset (Dry bean Dataset)\n",
    "* The zipped file contains both the dataset as an excel file and the dataset description \n",
    "* Notes:\n",
    "    * Use \"pd.read_excel()\" method => to read an excel file into a dataframe object\n",
    "    * Split the training data into 67% and the testing data into 33%\n",
    "    * Train the logistic regression model for 250 iterations on the training data\n",
    "    * Show the trained model accuracy on the testing data\n",
    "    * Achieve an Accuray >= 90%"
   ]
  },
  {
   "cell_type": "markdown",
   "id": "5698addd-34f0-446c-8da6-c766ac14825e",
   "metadata": {},
   "source": [
    "# Imports"
   ]
  },
  {
   "cell_type": "code",
   "execution_count": 2,
   "id": "b27a58a0-520f-411a-b9e0-4eb385593de5",
   "metadata": {},
   "outputs": [],
   "source": [
    "import pandas as pd\n",
    "from sklearn.model_selection import train_test_split\n",
    "from sklearn.metrics import classification_report\n",
    "from sklearn.linear_model import LogisticRegression\n",
    "from sklearn import preprocessing"
   ]
  },
  {
   "cell_type": "markdown",
   "id": "cf5f07ae-190c-4cd0-83ed-94c0d0995f66",
   "metadata": {},
   "source": [
    "# Logistic Regression model training  "
   ]
  },
  {
   "cell_type": "code",
   "execution_count": 3,
   "id": "7b127399-fa5f-4afc-a5a9-f734a3c6f5d6",
   "metadata": {},
   "outputs": [
    {
     "data": {
      "text/html": [
       "<div>\n",
       "<style scoped>\n",
       "    .dataframe tbody tr th:only-of-type {\n",
       "        vertical-align: middle;\n",
       "    }\n",
       "\n",
       "    .dataframe tbody tr th {\n",
       "        vertical-align: top;\n",
       "    }\n",
       "\n",
       "    .dataframe thead th {\n",
       "        text-align: right;\n",
       "    }\n",
       "</style>\n",
       "<table border=\"1\" class=\"dataframe\">\n",
       "  <thead>\n",
       "    <tr style=\"text-align: right;\">\n",
       "      <th></th>\n",
       "      <th>Area(A)</th>\n",
       "      <th>Perimeter(P)</th>\n",
       "      <th>Major axis length(L)</th>\n",
       "      <th>Minor axis length(l)</th>\n",
       "      <th>Aspect ratio(K)</th>\n",
       "      <th>Eccentricity(Ec)</th>\n",
       "      <th>Convex area(C)</th>\n",
       "      <th>Equivalent diameter(Ed)</th>\n",
       "      <th>Extent(Ex)</th>\n",
       "      <th>Solidity(S)</th>\n",
       "      <th>Roundness(R)</th>\n",
       "      <th>Compactness(CO)</th>\n",
       "      <th>Shape Factor1 (SF1)</th>\n",
       "      <th>Shape Factor2 (SF2)</th>\n",
       "      <th>Shape Factor3 (SF3)</th>\n",
       "      <th>Shape Factor4 (SF4)</th>\n",
       "      <th>Class</th>\n",
       "    </tr>\n",
       "  </thead>\n",
       "  <tbody>\n",
       "    <tr>\n",
       "      <th>0</th>\n",
       "      <td>28395</td>\n",
       "      <td>610.291</td>\n",
       "      <td>208.178117</td>\n",
       "      <td>173.888747</td>\n",
       "      <td>1.197191</td>\n",
       "      <td>0.549812</td>\n",
       "      <td>28715</td>\n",
       "      <td>190.141097</td>\n",
       "      <td>0.763923</td>\n",
       "      <td>0.988856</td>\n",
       "      <td>0.958027</td>\n",
       "      <td>0.913358</td>\n",
       "      <td>0.007332</td>\n",
       "      <td>0.003147</td>\n",
       "      <td>0.834222</td>\n",
       "      <td>0.998724</td>\n",
       "      <td>0</td>\n",
       "    </tr>\n",
       "    <tr>\n",
       "      <th>1</th>\n",
       "      <td>28734</td>\n",
       "      <td>638.018</td>\n",
       "      <td>200.524796</td>\n",
       "      <td>182.734419</td>\n",
       "      <td>1.097356</td>\n",
       "      <td>0.411785</td>\n",
       "      <td>29172</td>\n",
       "      <td>191.272750</td>\n",
       "      <td>0.783968</td>\n",
       "      <td>0.984986</td>\n",
       "      <td>0.887034</td>\n",
       "      <td>0.953861</td>\n",
       "      <td>0.006979</td>\n",
       "      <td>0.003564</td>\n",
       "      <td>0.909851</td>\n",
       "      <td>0.998430</td>\n",
       "      <td>0</td>\n",
       "    </tr>\n",
       "    <tr>\n",
       "      <th>2</th>\n",
       "      <td>29380</td>\n",
       "      <td>624.110</td>\n",
       "      <td>212.826130</td>\n",
       "      <td>175.931143</td>\n",
       "      <td>1.209713</td>\n",
       "      <td>0.562727</td>\n",
       "      <td>29690</td>\n",
       "      <td>193.410904</td>\n",
       "      <td>0.778113</td>\n",
       "      <td>0.989559</td>\n",
       "      <td>0.947849</td>\n",
       "      <td>0.908774</td>\n",
       "      <td>0.007244</td>\n",
       "      <td>0.003048</td>\n",
       "      <td>0.825871</td>\n",
       "      <td>0.999066</td>\n",
       "      <td>0</td>\n",
       "    </tr>\n",
       "    <tr>\n",
       "      <th>3</th>\n",
       "      <td>30008</td>\n",
       "      <td>645.884</td>\n",
       "      <td>210.557999</td>\n",
       "      <td>182.516516</td>\n",
       "      <td>1.153638</td>\n",
       "      <td>0.498616</td>\n",
       "      <td>30724</td>\n",
       "      <td>195.467062</td>\n",
       "      <td>0.782681</td>\n",
       "      <td>0.976696</td>\n",
       "      <td>0.903936</td>\n",
       "      <td>0.928329</td>\n",
       "      <td>0.007017</td>\n",
       "      <td>0.003215</td>\n",
       "      <td>0.861794</td>\n",
       "      <td>0.994199</td>\n",
       "      <td>0</td>\n",
       "    </tr>\n",
       "    <tr>\n",
       "      <th>4</th>\n",
       "      <td>30140</td>\n",
       "      <td>620.134</td>\n",
       "      <td>201.847882</td>\n",
       "      <td>190.279279</td>\n",
       "      <td>1.060798</td>\n",
       "      <td>0.333680</td>\n",
       "      <td>30417</td>\n",
       "      <td>195.896503</td>\n",
       "      <td>0.773098</td>\n",
       "      <td>0.990893</td>\n",
       "      <td>0.984877</td>\n",
       "      <td>0.970516</td>\n",
       "      <td>0.006697</td>\n",
       "      <td>0.003665</td>\n",
       "      <td>0.941900</td>\n",
       "      <td>0.999166</td>\n",
       "      <td>0</td>\n",
       "    </tr>\n",
       "  </tbody>\n",
       "</table>\n",
       "</div>"
      ],
      "text/plain": [
       "   Area(A)  Perimeter(P)  Major axis length(L)  Minor axis length(l)  \\\n",
       "0    28395       610.291            208.178117            173.888747   \n",
       "1    28734       638.018            200.524796            182.734419   \n",
       "2    29380       624.110            212.826130            175.931143   \n",
       "3    30008       645.884            210.557999            182.516516   \n",
       "4    30140       620.134            201.847882            190.279279   \n",
       "\n",
       "   Aspect ratio(K)  Eccentricity(Ec)  Convex area(C)  Equivalent diameter(Ed)  \\\n",
       "0         1.197191          0.549812           28715               190.141097   \n",
       "1         1.097356          0.411785           29172               191.272750   \n",
       "2         1.209713          0.562727           29690               193.410904   \n",
       "3         1.153638          0.498616           30724               195.467062   \n",
       "4         1.060798          0.333680           30417               195.896503   \n",
       "\n",
       "   Extent(Ex)  Solidity(S)  Roundness(R)  Compactness(CO)  \\\n",
       "0    0.763923     0.988856      0.958027         0.913358   \n",
       "1    0.783968     0.984986      0.887034         0.953861   \n",
       "2    0.778113     0.989559      0.947849         0.908774   \n",
       "3    0.782681     0.976696      0.903936         0.928329   \n",
       "4    0.773098     0.990893      0.984877         0.970516   \n",
       "\n",
       "   Shape Factor1 (SF1)  Shape Factor2 (SF2)  Shape Factor3 (SF3)  \\\n",
       "0             0.007332             0.003147             0.834222   \n",
       "1             0.006979             0.003564             0.909851   \n",
       "2             0.007244             0.003048             0.825871   \n",
       "3             0.007017             0.003215             0.861794   \n",
       "4             0.006697             0.003665             0.941900   \n",
       "\n",
       "   Shape Factor4 (SF4)  Class  \n",
       "0             0.998724      0  \n",
       "1             0.998430      0  \n",
       "2             0.999066      0  \n",
       "3             0.994199      0  \n",
       "4             0.999166      0  "
      ]
     },
     "execution_count": 3,
     "metadata": {},
     "output_type": "execute_result"
    }
   ],
   "source": [
    "data = pd.read_excel(\"Dry_Bean_Dataset.xlsx\",header = None)\n",
    "data.columns = ['Area(A)', 'Perimeter(P)', 'Major axis length(L)', 'Minor axis length(l)', 'Aspect ratio(K)','Eccentricity(Ec)','Convex area(C)','Equivalent diameter(Ed)','Extent(Ex)','Solidity(S)','Roundness(R)','Compactness(CO)','Shape Factor1 (SF1)','Shape Factor2 (SF2)','Shape Factor3 (SF3)','Shape Factor4 (SF4)','Class']\n",
    "data['Class'] = data['Class'].map({'SEKER': 0, 'BARBUNYA': 1, 'BOMBAY':2,'CALI':3,'DERMASON':4,'HOROZ':5,'SIRA':6})\n",
    "data.head()\n"
   ]
  },
  {
   "cell_type": "code",
   "execution_count": 4,
   "id": "2464a979",
   "metadata": {},
   "outputs": [
    {
     "data": {
      "text/plain": [
       "array([[2.83950000e+04, 6.10291000e+02, 2.08178117e+02, 1.73888747e+02,\n",
       "        1.19719142e+00, 5.49812187e-01, 2.87150000e+04, 1.90141097e+02,\n",
       "        7.63922518e-01, 9.88855999e-01, 9.58027126e-01, 9.13357755e-01,\n",
       "        7.33150614e-03, 3.14728917e-03, 8.34222388e-01, 9.98723889e-01],\n",
       "       [2.87340000e+04, 6.38018000e+02, 2.00524796e+02, 1.82734419e+02,\n",
       "        1.09735646e+00, 4.11785251e-01, 2.91720000e+04, 1.91272750e+02,\n",
       "        7.83968133e-01, 9.84985603e-01, 8.87033637e-01, 9.53860842e-01,\n",
       "        6.97865928e-03, 3.56362371e-03, 9.09850506e-01, 9.98430331e-01],\n",
       "       [2.93800000e+04, 6.24110000e+02, 2.12826130e+02, 1.75931143e+02,\n",
       "        1.20971266e+00, 5.62727317e-01, 2.96900000e+04, 1.93410904e+02,\n",
       "        7.78113248e-01, 9.89558774e-01, 9.47849473e-01, 9.08774239e-01,\n",
       "        7.24391184e-03, 3.04773322e-03, 8.25870617e-01, 9.99066137e-01],\n",
       "       [3.00080000e+04, 6.45884000e+02, 2.10557999e+02, 1.82516516e+02,\n",
       "        1.15363806e+00, 4.98615976e-01, 3.07240000e+04, 1.95467062e+02,\n",
       "        7.82681273e-01, 9.76695743e-01, 9.03936374e-01, 9.28328835e-01,\n",
       "        7.01672884e-03, 3.21456208e-03, 8.61794425e-01, 9.94198849e-01],\n",
       "       [3.01400000e+04, 6.20134000e+02, 2.01847882e+02, 1.90279279e+02,\n",
       "        1.06079802e+00, 3.33679658e-01, 3.04170000e+04, 1.95896503e+02,\n",
       "        7.73098035e-01, 9.90893250e-01, 9.84877069e-01, 9.70515523e-01,\n",
       "        6.69701003e-03, 3.66497196e-03, 9.41900381e-01, 9.99166059e-01]])"
      ]
     },
     "execution_count": 4,
     "metadata": {},
     "output_type": "execute_result"
    }
   ],
   "source": [
    "inputs = data.drop('Class', axis=1).values\n",
    "inputs[:5]"
   ]
  },
  {
   "cell_type": "code",
   "execution_count": 7,
   "id": "acb74fe2",
   "metadata": {},
   "outputs": [
    {
     "data": {
      "text/plain": [
       "array([0, 0, 0, 0, 0], dtype=int64)"
      ]
     },
     "execution_count": 7,
     "metadata": {},
     "output_type": "execute_result"
    }
   ],
   "source": [
    "outputs = data['Class'].values\n",
    "outputs[:5]"
   ]
  },
  {
   "cell_type": "code",
   "execution_count": 8,
   "id": "8b0f1fcc",
   "metadata": {},
   "outputs": [],
   "source": [
    "X_train, X_test, y_train, y_test = train_test_split(inputs, outputs, test_size = 0.33, random_state = 0)\n"
   ]
  },
  {
   "cell_type": "code",
   "execution_count": 9,
   "id": "0890cce9",
   "metadata": {},
   "outputs": [
    {
     "data": {
      "text/plain": [
       "array([4.71790000e+04, 8.09861000e+02, 2.99122128e+02, 2.01352883e+02,\n",
       "       1.48556169e+00, 7.39509552e-01, 4.77030000e+04, 2.45092163e+02,\n",
       "       7.10869696e-01, 9.89015366e-01, 9.03935879e-01, 8.19371555e-01,\n",
       "       6.34015405e-03, 1.76280026e-03, 6.71369745e-01, 9.97361170e-01])"
      ]
     },
     "execution_count": 9,
     "metadata": {},
     "output_type": "execute_result"
    }
   ],
   "source": [
    "scaler_X_train = preprocessing.StandardScaler().fit(X_train)\n",
    "scaler_X_test = preprocessing.StandardScaler().fit(X_test)\n",
    "\n",
    "X_train_scaled = scaler_X_train.transform(X_train)\n",
    "X_test_scaled = scaler_X_test.transform(X_test)\n",
    "\n",
    "X_train[0] # before scaling"
   ]
  },
  {
   "cell_type": "code",
   "execution_count": 10,
   "id": "1703b4ac",
   "metadata": {},
   "outputs": [
    {
     "data": {
      "text/plain": [
       "array([-0.20657498, -0.21610567, -0.24731967, -0.03270894, -0.38595417,\n",
       "       -0.11107076, -0.20995841, -0.14156826, -0.80466111,  0.39180142,\n",
       "        0.50424185,  0.30405632, -0.18530273,  0.07352   ,  0.26814732,\n",
       "        0.51921631])"
      ]
     },
     "execution_count": 10,
     "metadata": {},
     "output_type": "execute_result"
    }
   ],
   "source": [
    "X_train_scaled[0] #data is now scaled "
   ]
  },
  {
   "cell_type": "code",
   "execution_count": 11,
   "id": "fe322e70",
   "metadata": {},
   "outputs": [
    {
     "data": {
      "text/plain": [
       "array([[-0.53981215, -0.68385855, -0.65333573, ...,  0.50610738,\n",
       "         0.36346211,  0.43285771],\n",
       "       [-0.83710924, -1.02792638, -0.95260002, ...,  0.65811807,\n",
       "        -0.00909789,  0.58808013],\n",
       "       [-0.50367994, -0.6371212 , -0.58542834, ...,  0.38335931,\n",
       "         0.25725705,  0.82773561],\n",
       "       ...,\n",
       "       [-0.63961266, -0.77849504, -0.7635852 , ...,  0.60263574,\n",
       "         0.31223935,  0.81079197],\n",
       "       [-0.08175705, -0.07817247, -0.06776312, ..., -0.14418301,\n",
       "         0.07788761,  0.32046453],\n",
       "       [ 3.82312525,  3.16883149,  2.60866872, ..., -1.15143367,\n",
       "         0.66003524,  0.46093265]])"
      ]
     },
     "execution_count": 11,
     "metadata": {},
     "output_type": "execute_result"
    }
   ],
   "source": [
    "X_test_scaled"
   ]
  },
  {
   "cell_type": "code",
   "execution_count": 12,
   "id": "d3dc1f45",
   "metadata": {},
   "outputs": [],
   "source": [
    "model = LogisticRegression(multi_class='multinomial', max_iter=250)"
   ]
  },
  {
   "cell_type": "code",
   "execution_count": 13,
   "id": "af77a4b5",
   "metadata": {},
   "outputs": [
    {
     "data": {
      "text/plain": [
       "LogisticRegression(max_iter=250, multi_class='multinomial')"
      ]
     },
     "execution_count": 13,
     "metadata": {},
     "output_type": "execute_result"
    }
   ],
   "source": [
    "y_train = y_train.flatten() #requires 1d array \n",
    "model.fit(X_train_scaled, y_train) #training model"
   ]
  },
  {
   "cell_type": "markdown",
   "id": "c7965db4-eee0-4198-acd3-5871b9d285fa",
   "metadata": {},
   "source": [
    "# Logistic Regression model Evaluation on the testing dataset"
   ]
  },
  {
   "cell_type": "code",
   "execution_count": 14,
   "id": "d79f01b7-0007-49ff-93f0-10dd03cf314b",
   "metadata": {},
   "outputs": [],
   "source": [
    "y_preds = model.predict(X_test_scaled)"
   ]
  },
  {
   "cell_type": "code",
   "execution_count": 15,
   "id": "0e425281",
   "metadata": {},
   "outputs": [
    {
     "data": {
      "text/plain": [
       "array([4, 4, 4, ..., 4, 6, 2], dtype=int64)"
      ]
     },
     "execution_count": 15,
     "metadata": {},
     "output_type": "execute_result"
    }
   ],
   "source": [
    "y_preds"
   ]
  },
  {
   "cell_type": "code",
   "execution_count": 16,
   "id": "86694278",
   "metadata": {},
   "outputs": [
    {
     "name": "stdout",
     "output_type": "stream",
     "text": [
      "              precision    recall  f1-score   support\n",
      "\n",
      "           0       0.93      0.95      0.94       625\n",
      "           1       0.92      0.90      0.91       433\n",
      "           2       1.00      1.00      1.00       146\n",
      "           3       0.91      0.95      0.93       555\n",
      "           4       0.92      0.93      0.93      1167\n",
      "           5       0.96      0.95      0.95       659\n",
      "           6       0.88      0.86      0.87       907\n",
      "\n",
      "    accuracy                           0.92      4492\n",
      "   macro avg       0.93      0.93      0.93      4492\n",
      "weighted avg       0.92      0.92      0.92      4492\n",
      "\n"
     ]
    }
   ],
   "source": [
    "print(classification_report(y_test, y_preds))"
   ]
  },
  {
   "cell_type": "code",
   "execution_count": null,
   "id": "ac0ef9bc",
   "metadata": {},
   "outputs": [],
   "source": []
  }
 ],
 "metadata": {
  "kernelspec": {
   "display_name": "Python 3.7.8 64-bit",
   "language": "python",
   "name": "python3"
  },
  "language_info": {
   "codemirror_mode": {
    "name": "ipython",
    "version": 3
   },
   "file_extension": ".py",
   "mimetype": "text/x-python",
   "name": "python",
   "nbconvert_exporter": "python",
   "pygments_lexer": "ipython3",
   "version": "3.7.8"
  },
  "vscode": {
   "interpreter": {
    "hash": "c6aeca87e53583627b8b79e4f4da41d10e1acf8a2564923b7f23db1af83b45f2"
   }
  }
 },
 "nbformat": 4,
 "nbformat_minor": 5
}
